{
 "cells": [
  {
   "cell_type": "code",
   "execution_count": 1,
   "id": "c56d3db5",
   "metadata": {
    "_cell_guid": "b1076dfc-b9ad-4769-8c92-a6c4dae69d19",
    "_uuid": "8f2839f25d086af736a60e9eeb907d3b93b6e0e5",
    "execution": {
     "iopub.execute_input": "2023-11-05T14:21:42.657385Z",
     "iopub.status.busy": "2023-11-05T14:21:42.656997Z",
     "iopub.status.idle": "2023-11-05T14:21:43.167718Z",
     "shell.execute_reply": "2023-11-05T14:21:43.166564Z"
    },
    "papermill": {
     "duration": 0.533049,
     "end_time": "2023-11-05T14:21:43.170503",
     "exception": false,
     "start_time": "2023-11-05T14:21:42.637454",
     "status": "completed"
    },
    "tags": []
   },
   "outputs": [
    {
     "name": "stdout",
     "output_type": "stream",
     "text": [
      "/kaggle/input/imdb-dataset-of-50k-movie-reviews/IMDB Dataset.csv\n"
     ]
    }
   ],
   "source": [
    "# This Python 3 environment comes with many helpful analytics libraries installed\n",
    "# It is defined by the kaggle/python Docker image: https://github.com/kaggle/docker-python\n",
    "# For example, here's several helpful packages to load\n",
    "\n",
    "import numpy as np # linear algebra\n",
    "import pandas as pd # data processing, CSV file I/O (e.g. pd.read_csv)\n",
    "\n",
    "# Input data files are available in the read-only \"../input/\" directory\n",
    "# For example, running this (by clicking run or pressing Shift+Enter) will list all files under the input directory\n",
    "\n",
    "import os\n",
    "for dirname, _, filenames in os.walk('/kaggle/input'):\n",
    "    for filename in filenames:\n",
    "        print(os.path.join(dirname, filename))\n",
    "\n",
    "# You can write up to 20GB to the current directory (/kaggle/working/) that gets preserved as output when you create a version using \"Save & Run All\" \n",
    "# You can also write temporary files to /kaggle/temp/, but they won't be saved outside of the current session"
   ]
  },
  {
   "cell_type": "code",
   "execution_count": 35,
   "id": "1a28980c",
   "metadata": {
    "papermill": {
     "duration": 1.657465,
     "end_time": "2023-11-05T14:21:44.845901",
     "exception": false,
     "start_time": "2023-11-05T14:21:43.188436",
     "status": "completed"
    },
    "tags": []
   },
   "outputs": [],
   "source": [
    "import pandas as pd\n",
    "df=pd.read_csv('newdata.csv')"
   ]
  },
  {
   "cell_type": "code",
   "execution_count": 36,
   "id": "13b0e6ef",
   "metadata": {
    "papermill": {
     "duration": 0.044516,
     "end_time": "2023-11-05T14:21:44.907506",
     "exception": false,
     "start_time": "2023-11-05T14:21:44.862990",
     "status": "completed"
    },
    "tags": []
   },
   "outputs": [
    {
     "data": {
      "text/html": [
       "<div>\n",
       "<style scoped>\n",
       "    .dataframe tbody tr th:only-of-type {\n",
       "        vertical-align: middle;\n",
       "    }\n",
       "\n",
       "    .dataframe tbody tr th {\n",
       "        vertical-align: top;\n",
       "    }\n",
       "\n",
       "    .dataframe thead th {\n",
       "        text-align: right;\n",
       "    }\n",
       "</style>\n",
       "<table border=\"1\" class=\"dataframe\">\n",
       "  <thead>\n",
       "    <tr style=\"text-align: right;\">\n",
       "      <th></th>\n",
       "      <th>Stock</th>\n",
       "      <th>Headline</th>\n",
       "      <th>sentiment</th>\n",
       "    </tr>\n",
       "  </thead>\n",
       "  <tbody>\n",
       "    <tr>\n",
       "      <th>0</th>\n",
       "      <td>AAPL</td>\n",
       "      <td>Morgan Stanley's Erik Woodring on Apple: Expec...</td>\n",
       "      <td>Positive</td>\n",
       "    </tr>\n",
       "    <tr>\n",
       "      <th>1</th>\n",
       "      <td>AAPL</td>\n",
       "      <td>Netflix, Apple TV+ and Amazon Prime Video Hike...</td>\n",
       "      <td>Positive</td>\n",
       "    </tr>\n",
       "    <tr>\n",
       "      <th>2</th>\n",
       "      <td>AAPL</td>\n",
       "      <td>Apple Looks to Capitalize on Computer Sales Co...</td>\n",
       "      <td>Positive</td>\n",
       "    </tr>\n",
       "    <tr>\n",
       "      <th>3</th>\n",
       "      <td>AAPL</td>\n",
       "      <td>Wistron's sale of Indian facility to Tata sign...</td>\n",
       "      <td>Positive</td>\n",
       "    </tr>\n",
       "    <tr>\n",
       "      <th>4</th>\n",
       "      <td>AAPL</td>\n",
       "      <td>Column: A big victory for an Orange County ent...</td>\n",
       "      <td>Positive</td>\n",
       "    </tr>\n",
       "  </tbody>\n",
       "</table>\n",
       "</div>"
      ],
      "text/plain": [
       "  Stock                                           Headline sentiment\n",
       "0  AAPL  Morgan Stanley's Erik Woodring on Apple: Expec...  Positive\n",
       "1  AAPL  Netflix, Apple TV+ and Amazon Prime Video Hike...  Positive\n",
       "2  AAPL  Apple Looks to Capitalize on Computer Sales Co...  Positive\n",
       "3  AAPL  Wistron's sale of Indian facility to Tata sign...  Positive\n",
       "4  AAPL  Column: A big victory for an Orange County ent...  Positive"
      ]
     },
     "execution_count": 36,
     "metadata": {},
     "output_type": "execute_result"
    }
   ],
   "source": [
    "df.head()"
   ]
  },
  {
   "cell_type": "code",
   "execution_count": 38,
   "id": "00848869",
   "metadata": {
    "papermill": {
     "duration": 0.028288,
     "end_time": "2023-11-05T14:21:44.953132",
     "exception": false,
     "start_time": "2023-11-05T14:21:44.924844",
     "status": "completed"
    },
    "tags": []
   },
   "outputs": [
    {
     "data": {
      "text/plain": [
       "\"Morgan Stanley's Erik Woodring on Apple: Expect solid September quarter\""
      ]
     },
     "execution_count": 38,
     "metadata": {},
     "output_type": "execute_result"
    }
   ],
   "source": [
    "# one review\n",
    "df['Headline'][0]"
   ]
  },
  {
   "cell_type": "markdown",
   "id": "79c8b89a",
   "metadata": {
    "papermill": {
     "duration": 0.018805,
     "end_time": "2023-11-05T14:21:44.989787",
     "exception": false,
     "start_time": "2023-11-05T14:21:44.970982",
     "status": "completed"
    },
    "tags": []
   },
   "source": [
    "**Text Cleaning**\n",
    "- sample 10000 rows\n",
    "- remove html tage\n",
    "- remove special characters\n",
    "- coverting everything to lower case\n",
    "- removing stop words\n",
    "- stemming"
   ]
  },
  {
   "cell_type": "code",
   "execution_count": 40,
   "id": "70e5e3a5",
   "metadata": {
    "papermill": {
     "duration": 0.036445,
     "end_time": "2023-11-05T14:21:45.046066",
     "exception": false,
     "start_time": "2023-11-05T14:21:45.009621",
     "status": "completed"
    },
    "tags": []
   },
   "outputs": [],
   "source": [
    "df=df.sample(100)"
   ]
  },
  {
   "cell_type": "code",
   "execution_count": 41,
   "id": "eecb9ac3",
   "metadata": {
    "papermill": {
     "duration": 0.028033,
     "end_time": "2023-11-05T14:21:45.091921",
     "exception": false,
     "start_time": "2023-11-05T14:21:45.063888",
     "status": "completed"
    },
    "tags": []
   },
   "outputs": [
    {
     "data": {
      "text/plain": [
       "(100, 3)"
      ]
     },
     "execution_count": 41,
     "metadata": {},
     "output_type": "execute_result"
    }
   ],
   "source": [
    "df.shape"
   ]
  },
  {
   "cell_type": "code",
   "execution_count": 42,
   "id": "def0d18f",
   "metadata": {
    "papermill": {
     "duration": 0.052069,
     "end_time": "2023-11-05T14:21:45.161669",
     "exception": false,
     "start_time": "2023-11-05T14:21:45.109600",
     "status": "completed"
    },
    "tags": []
   },
   "outputs": [
    {
     "name": "stdout",
     "output_type": "stream",
     "text": [
      "<class 'pandas.core.frame.DataFrame'>\n",
      "Index: 100 entries, 58 to 37\n",
      "Data columns (total 3 columns):\n",
      " #   Column     Non-Null Count  Dtype \n",
      "---  ------     --------------  ----- \n",
      " 0   Stock      100 non-null    object\n",
      " 1   Headline   100 non-null    object\n",
      " 2   sentiment  100 non-null    object\n",
      "dtypes: object(3)\n",
      "memory usage: 3.1+ KB\n"
     ]
    }
   ],
   "source": [
    "df.info()"
   ]
  },
  {
   "cell_type": "code",
   "execution_count": 43,
   "id": "64f4fc81",
   "metadata": {
    "papermill": {
     "duration": 0.036743,
     "end_time": "2023-11-05T14:21:45.216417",
     "exception": false,
     "start_time": "2023-11-05T14:21:45.179674",
     "status": "completed"
    },
    "tags": []
   },
   "outputs": [],
   "source": [
    "df['sentiment'].replace({'Positive':1, 'Negative':-1, 'Neutral': 0},inplace=True)"
   ]
  },
  {
   "cell_type": "code",
   "execution_count": 44,
   "id": "a6fb6dec",
   "metadata": {
    "papermill": {
     "duration": 0.031421,
     "end_time": "2023-11-05T14:21:45.265876",
     "exception": false,
     "start_time": "2023-11-05T14:21:45.234455",
     "status": "completed"
    },
    "tags": []
   },
   "outputs": [
    {
     "data": {
      "text/html": [
       "<div>\n",
       "<style scoped>\n",
       "    .dataframe tbody tr th:only-of-type {\n",
       "        vertical-align: middle;\n",
       "    }\n",
       "\n",
       "    .dataframe tbody tr th {\n",
       "        vertical-align: top;\n",
       "    }\n",
       "\n",
       "    .dataframe thead th {\n",
       "        text-align: right;\n",
       "    }\n",
       "</style>\n",
       "<table border=\"1\" class=\"dataframe\">\n",
       "  <thead>\n",
       "    <tr style=\"text-align: right;\">\n",
       "      <th></th>\n",
       "      <th>Stock</th>\n",
       "      <th>Headline</th>\n",
       "      <th>sentiment</th>\n",
       "    </tr>\n",
       "  </thead>\n",
       "  <tbody>\n",
       "    <tr>\n",
       "      <th>58</th>\n",
       "      <td>AAPL</td>\n",
       "      <td>Apple Headlines Earnings Calendar With Chip Ti...</td>\n",
       "      <td>0</td>\n",
       "    </tr>\n",
       "    <tr>\n",
       "      <th>22</th>\n",
       "      <td>AAPL</td>\n",
       "      <td>1 Magnificent Stock on Its Way to Join Apple, ...</td>\n",
       "      <td>0</td>\n",
       "    </tr>\n",
       "    <tr>\n",
       "      <th>28</th>\n",
       "      <td>AAPL</td>\n",
       "      <td>15 Best Laptops in 2023 For Students or Home Use</td>\n",
       "      <td>0</td>\n",
       "    </tr>\n",
       "    <tr>\n",
       "      <th>1</th>\n",
       "      <td>AAPL</td>\n",
       "      <td>Netflix, Apple TV+ and Amazon Prime Video Hike...</td>\n",
       "      <td>1</td>\n",
       "    </tr>\n",
       "    <tr>\n",
       "      <th>4</th>\n",
       "      <td>AAPL</td>\n",
       "      <td>Column: A big victory for an Orange County ent...</td>\n",
       "      <td>1</td>\n",
       "    </tr>\n",
       "  </tbody>\n",
       "</table>\n",
       "</div>"
      ],
      "text/plain": [
       "   Stock                                           Headline  sentiment\n",
       "58  AAPL  Apple Headlines Earnings Calendar With Chip Ti...          0\n",
       "22  AAPL  1 Magnificent Stock on Its Way to Join Apple, ...          0\n",
       "28  AAPL   15 Best Laptops in 2023 For Students or Home Use          0\n",
       "1   AAPL  Netflix, Apple TV+ and Amazon Prime Video Hike...          1\n",
       "4   AAPL  Column: A big victory for an Orange County ent...          1"
      ]
     },
     "execution_count": 44,
     "metadata": {},
     "output_type": "execute_result"
    }
   ],
   "source": [
    "df.head()"
   ]
  },
  {
   "cell_type": "code",
   "execution_count": 46,
   "id": "e8ded8c9",
   "metadata": {
    "papermill": {
     "duration": 0.029609,
     "end_time": "2023-11-05T14:21:45.313233",
     "exception": false,
     "start_time": "2023-11-05T14:21:45.283624",
     "status": "completed"
    },
    "tags": []
   },
   "outputs": [
    {
     "data": {
      "text/plain": [
       "'15 Best Laptops in 2023 For Students or Home Use'"
      ]
     },
     "execution_count": 46,
     "metadata": {},
     "output_type": "execute_result"
    }
   ],
   "source": [
    "# importing regex library to remove all html tags\n",
    "import re\n",
    "clean=re.compile('<.*?>')\n",
    "re.sub(clean, '', df.iloc[2].Headline)"
   ]
  },
  {
   "cell_type": "code",
   "execution_count": 47,
   "id": "b998da60",
   "metadata": {
    "papermill": {
     "duration": 0.09055,
     "end_time": "2023-11-05T14:21:45.421777",
     "exception": false,
     "start_time": "2023-11-05T14:21:45.331227",
     "status": "completed"
    },
    "tags": []
   },
   "outputs": [],
   "source": [
    "def clean_html(text):\n",
    "    clean=re.compile('<.*?>')\n",
    "    return re.sub(clean, '', text)"
   ]
  },
  {
   "cell_type": "code",
   "execution_count": 49,
   "id": "f5490615",
   "metadata": {
    "papermill": {
     "duration": 0.097062,
     "end_time": "2023-11-05T14:21:45.537931",
     "exception": false,
     "start_time": "2023-11-05T14:21:45.440869",
     "status": "completed"
    },
    "tags": []
   },
   "outputs": [],
   "source": [
    "df['Headline']=df['Headline'].apply(clean_html)"
   ]
  },
  {
   "cell_type": "code",
   "execution_count": 50,
   "id": "6cbcf0ba",
   "metadata": {
    "papermill": {
     "duration": 0.027446,
     "end_time": "2023-11-05T14:21:45.584326",
     "exception": false,
     "start_time": "2023-11-05T14:21:45.556880",
     "status": "completed"
    },
    "tags": []
   },
   "outputs": [],
   "source": [
    "# converting eveything to lower\n",
    "def convert_lower(text):\n",
    "    return text.lower()"
   ]
  },
  {
   "cell_type": "code",
   "execution_count": 52,
   "id": "a643b36f",
   "metadata": {
    "papermill": {
     "duration": 0.072598,
     "end_time": "2023-11-05T14:21:45.675184",
     "exception": false,
     "start_time": "2023-11-05T14:21:45.602586",
     "status": "completed"
    },
    "tags": []
   },
   "outputs": [],
   "source": [
    "df['Headline']=df['Headline'].apply(convert_lower)"
   ]
  },
  {
   "cell_type": "code",
   "execution_count": 53,
   "id": "eaf535b6",
   "metadata": {
    "papermill": {
     "duration": 0.030325,
     "end_time": "2023-11-05T14:21:45.724366",
     "exception": false,
     "start_time": "2023-11-05T14:21:45.694041",
     "status": "completed"
    },
    "tags": []
   },
   "outputs": [],
   "source": [
    "# function to remove special characters\n",
    "def remove_special(text):\n",
    "    x=''\n",
    "    \n",
    "    for i in text:\n",
    "        if i.isalnum():\n",
    "            x=x+i\n",
    "        else:\n",
    "            x=x + ' '\n",
    "    return x"
   ]
  },
  {
   "cell_type": "code",
   "execution_count": 54,
   "id": "ca5aae2f",
   "metadata": {
    "papermill": {
     "duration": 0.030816,
     "end_time": "2023-11-05T14:21:45.773804",
     "exception": false,
     "start_time": "2023-11-05T14:21:45.742988",
     "status": "completed"
    },
    "tags": []
   },
   "outputs": [
    {
     "data": {
      "text/plain": [
       "'Th is sh ow pulls no punches with regards to drugs  sex or violence  Its is hardcore  in the classic use of the word  br    br   It is called OZ as that is the nickname given to the Oswald Maximum Security State Penitentary  It focuses mainly '"
      ]
     },
     "execution_count": 54,
     "metadata": {},
     "output_type": "execute_result"
    }
   ],
   "source": [
    "remove_special('Th%is sh@ow pulls no punches with regards to drugs, sex or violence. Its is hardcore, in the classic use of the word.<br /><br />It is called OZ as that is the nickname given to the Oswald Maximum Security State Penitentary. It focuses mainly ')"
   ]
  },
  {
   "cell_type": "code",
   "execution_count": 55,
   "id": "a72e6257",
   "metadata": {
    "papermill": {
     "duration": 3.003371,
     "end_time": "2023-11-05T14:21:48.795935",
     "exception": false,
     "start_time": "2023-11-05T14:21:45.792564",
     "status": "completed"
    },
    "tags": []
   },
   "outputs": [],
   "source": [
    "df['Headline']=df['Headline'].apply(remove_special)"
   ]
  },
  {
   "cell_type": "code",
   "execution_count": 56,
   "id": "8f0f5873",
   "metadata": {
    "papermill": {
     "duration": 1.945163,
     "end_time": "2023-11-05T14:21:50.759518",
     "exception": false,
     "start_time": "2023-11-05T14:21:48.814355",
     "status": "completed"
    },
    "tags": []
   },
   "outputs": [],
   "source": [
    "# removing the stop words\n",
    "import nltk"
   ]
  },
  {
   "cell_type": "code",
   "execution_count": 57,
   "id": "ff350a8e",
   "metadata": {
    "papermill": {
     "duration": 0.036367,
     "end_time": "2023-11-05T14:21:50.823890",
     "exception": false,
     "start_time": "2023-11-05T14:21:50.787523",
     "status": "completed"
    },
    "tags": []
   },
   "outputs": [],
   "source": [
    "from nltk.corpus import stopwords"
   ]
  },
  {
   "cell_type": "code",
   "execution_count": 58,
   "id": "0a4a4659",
   "metadata": {
    "papermill": {
     "duration": 0.037674,
     "end_time": "2023-11-05T14:21:50.879971",
     "exception": false,
     "start_time": "2023-11-05T14:21:50.842297",
     "status": "completed"
    },
    "tags": []
   },
   "outputs": [
    {
     "data": {
      "text/plain": [
       "179"
      ]
     },
     "execution_count": 58,
     "metadata": {},
     "output_type": "execute_result"
    }
   ],
   "source": [
    "len(stopwords.words('english'))"
   ]
  },
  {
   "cell_type": "code",
   "execution_count": 59,
   "id": "15921459",
   "metadata": {
    "papermill": {
     "duration": 0.040683,
     "end_time": "2023-11-05T14:21:50.939201",
     "exception": false,
     "start_time": "2023-11-05T14:21:50.898518",
     "status": "completed"
    },
    "tags": []
   },
   "outputs": [
    {
     "data": {
      "text/html": [
       "<div>\n",
       "<style scoped>\n",
       "    .dataframe tbody tr th:only-of-type {\n",
       "        vertical-align: middle;\n",
       "    }\n",
       "\n",
       "    .dataframe tbody tr th {\n",
       "        vertical-align: top;\n",
       "    }\n",
       "\n",
       "    .dataframe thead th {\n",
       "        text-align: right;\n",
       "    }\n",
       "</style>\n",
       "<table border=\"1\" class=\"dataframe\">\n",
       "  <thead>\n",
       "    <tr style=\"text-align: right;\">\n",
       "      <th></th>\n",
       "      <th>Stock</th>\n",
       "      <th>Headline</th>\n",
       "      <th>sentiment</th>\n",
       "    </tr>\n",
       "  </thead>\n",
       "  <tbody>\n",
       "    <tr>\n",
       "      <th>58</th>\n",
       "      <td>AAPL</td>\n",
       "      <td>apple headlines earnings calendar with chip ti...</td>\n",
       "      <td>0</td>\n",
       "    </tr>\n",
       "    <tr>\n",
       "      <th>22</th>\n",
       "      <td>AAPL</td>\n",
       "      <td>1 magnificent stock on its way to join apple  ...</td>\n",
       "      <td>0</td>\n",
       "    </tr>\n",
       "    <tr>\n",
       "      <th>28</th>\n",
       "      <td>AAPL</td>\n",
       "      <td>15 best laptops in 2023 for students or home use</td>\n",
       "      <td>0</td>\n",
       "    </tr>\n",
       "    <tr>\n",
       "      <th>1</th>\n",
       "      <td>AAPL</td>\n",
       "      <td>netflix  apple tv  and amazon prime video hike...</td>\n",
       "      <td>1</td>\n",
       "    </tr>\n",
       "    <tr>\n",
       "      <th>4</th>\n",
       "      <td>AAPL</td>\n",
       "      <td>column  a big victory for an orange county ent...</td>\n",
       "      <td>1</td>\n",
       "    </tr>\n",
       "    <tr>\n",
       "      <th>...</th>\n",
       "      <td>...</td>\n",
       "      <td>...</td>\n",
       "      <td>...</td>\n",
       "    </tr>\n",
       "    <tr>\n",
       "      <th>90</th>\n",
       "      <td>AAPL</td>\n",
       "      <td>alphabet fy3q23 earnings  microsoft fy1q24 ear...</td>\n",
       "      <td>0</td>\n",
       "    </tr>\n",
       "    <tr>\n",
       "      <th>36</th>\n",
       "      <td>AAPL</td>\n",
       "      <td>you dont need a new iphone  you just need a ne...</td>\n",
       "      <td>0</td>\n",
       "    </tr>\n",
       "    <tr>\n",
       "      <th>73</th>\n",
       "      <td>AAPL</td>\n",
       "      <td>google ceo defends paying apple and others to ...</td>\n",
       "      <td>-1</td>\n",
       "    </tr>\n",
       "    <tr>\n",
       "      <th>94</th>\n",
       "      <td>AAPL</td>\n",
       "      <td>apple has a china problem when it comes to pho...</td>\n",
       "      <td>-1</td>\n",
       "    </tr>\n",
       "    <tr>\n",
       "      <th>37</th>\n",
       "      <td>AAPL</td>\n",
       "      <td>we re adding to qualcomm and universal display...</td>\n",
       "      <td>0</td>\n",
       "    </tr>\n",
       "  </tbody>\n",
       "</table>\n",
       "<p>100 rows × 3 columns</p>\n",
       "</div>"
      ],
      "text/plain": [
       "   Stock                                           Headline  sentiment\n",
       "58  AAPL  apple headlines earnings calendar with chip ti...          0\n",
       "22  AAPL  1 magnificent stock on its way to join apple  ...          0\n",
       "28  AAPL   15 best laptops in 2023 for students or home use          0\n",
       "1   AAPL  netflix  apple tv  and amazon prime video hike...          1\n",
       "4   AAPL  column  a big victory for an orange county ent...          1\n",
       "..   ...                                                ...        ...\n",
       "90  AAPL  alphabet fy3q23 earnings  microsoft fy1q24 ear...          0\n",
       "36  AAPL  you dont need a new iphone  you just need a ne...          0\n",
       "73  AAPL  google ceo defends paying apple and others to ...         -1\n",
       "94  AAPL  apple has a china problem when it comes to pho...         -1\n",
       "37  AAPL  we re adding to qualcomm and universal display...          0\n",
       "\n",
       "[100 rows x 3 columns]"
      ]
     },
     "execution_count": 59,
     "metadata": {},
     "output_type": "execute_result"
    }
   ],
   "source": [
    "df"
   ]
  },
  {
   "cell_type": "code",
   "execution_count": 60,
   "id": "76ea7f51",
   "metadata": {
    "papermill": {
     "duration": 0.030652,
     "end_time": "2023-11-05T14:21:50.988731",
     "exception": false,
     "start_time": "2023-11-05T14:21:50.958079",
     "status": "completed"
    },
    "tags": []
   },
   "outputs": [],
   "source": [
    "def remove_stopwords(text):\n",
    "    x=[]\n",
    "    for i in text.split():\n",
    "        \n",
    "        if i not in stopwords.words('english'):\n",
    "            x.append(i)\n",
    "    y=x[:]\n",
    "    x.clear()\n",
    "    return y"
   ]
  },
  {
   "cell_type": "code",
   "execution_count": 61,
   "id": "1ac6438a",
   "metadata": {
    "papermill": {
     "duration": 333.278161,
     "end_time": "2023-11-05T14:27:24.287183",
     "exception": false,
     "start_time": "2023-11-05T14:21:51.009022",
     "status": "completed"
    },
    "tags": []
   },
   "outputs": [],
   "source": [
    "df['Headline']=df['Headline'].apply(remove_stopwords)"
   ]
  },
  {
   "cell_type": "code",
   "execution_count": 62,
   "id": "9b9bc979",
   "metadata": {
    "papermill": {
     "duration": 0.044397,
     "end_time": "2023-11-05T14:27:24.350574",
     "exception": false,
     "start_time": "2023-11-05T14:27:24.306177",
     "status": "completed"
    },
    "tags": []
   },
   "outputs": [
    {
     "data": {
      "text/html": [
       "<div>\n",
       "<style scoped>\n",
       "    .dataframe tbody tr th:only-of-type {\n",
       "        vertical-align: middle;\n",
       "    }\n",
       "\n",
       "    .dataframe tbody tr th {\n",
       "        vertical-align: top;\n",
       "    }\n",
       "\n",
       "    .dataframe thead th {\n",
       "        text-align: right;\n",
       "    }\n",
       "</style>\n",
       "<table border=\"1\" class=\"dataframe\">\n",
       "  <thead>\n",
       "    <tr style=\"text-align: right;\">\n",
       "      <th></th>\n",
       "      <th>Stock</th>\n",
       "      <th>Headline</th>\n",
       "      <th>sentiment</th>\n",
       "    </tr>\n",
       "  </thead>\n",
       "  <tbody>\n",
       "    <tr>\n",
       "      <th>58</th>\n",
       "      <td>AAPL</td>\n",
       "      <td>[apple, headlines, earnings, calendar, chip, t...</td>\n",
       "      <td>0</td>\n",
       "    </tr>\n",
       "    <tr>\n",
       "      <th>22</th>\n",
       "      <td>AAPL</td>\n",
       "      <td>[1, magnificent, stock, way, join, apple, micr...</td>\n",
       "      <td>0</td>\n",
       "    </tr>\n",
       "    <tr>\n",
       "      <th>28</th>\n",
       "      <td>AAPL</td>\n",
       "      <td>[15, best, laptops, 2023, students, home, use]</td>\n",
       "      <td>0</td>\n",
       "    </tr>\n",
       "    <tr>\n",
       "      <th>1</th>\n",
       "      <td>AAPL</td>\n",
       "      <td>[netflix, apple, tv, amazon, prime, video, hik...</td>\n",
       "      <td>1</td>\n",
       "    </tr>\n",
       "    <tr>\n",
       "      <th>4</th>\n",
       "      <td>AAPL</td>\n",
       "      <td>[column, big, victory, orange, county, entrepr...</td>\n",
       "      <td>1</td>\n",
       "    </tr>\n",
       "    <tr>\n",
       "      <th>...</th>\n",
       "      <td>...</td>\n",
       "      <td>...</td>\n",
       "      <td>...</td>\n",
       "    </tr>\n",
       "    <tr>\n",
       "      <th>90</th>\n",
       "      <td>AAPL</td>\n",
       "      <td>[alphabet, fy3q23, earnings, microsoft, fy1q24...</td>\n",
       "      <td>0</td>\n",
       "    </tr>\n",
       "    <tr>\n",
       "      <th>36</th>\n",
       "      <td>AAPL</td>\n",
       "      <td>[dont, need, new, iphone, need, new, battery]</td>\n",
       "      <td>0</td>\n",
       "    </tr>\n",
       "    <tr>\n",
       "      <th>73</th>\n",
       "      <td>AAPL</td>\n",
       "      <td>[google, ceo, defends, paying, apple, others, ...</td>\n",
       "      <td>-1</td>\n",
       "    </tr>\n",
       "    <tr>\n",
       "      <th>94</th>\n",
       "      <td>AAPL</td>\n",
       "      <td>[apple, china, problem, comes, phone, sales, s...</td>\n",
       "      <td>-1</td>\n",
       "    </tr>\n",
       "    <tr>\n",
       "      <th>37</th>\n",
       "      <td>AAPL</td>\n",
       "      <td>[adding, qualcomm, universal, display, ahead, ...</td>\n",
       "      <td>0</td>\n",
       "    </tr>\n",
       "  </tbody>\n",
       "</table>\n",
       "<p>100 rows × 3 columns</p>\n",
       "</div>"
      ],
      "text/plain": [
       "   Stock                                           Headline  sentiment\n",
       "58  AAPL  [apple, headlines, earnings, calendar, chip, t...          0\n",
       "22  AAPL  [1, magnificent, stock, way, join, apple, micr...          0\n",
       "28  AAPL     [15, best, laptops, 2023, students, home, use]          0\n",
       "1   AAPL  [netflix, apple, tv, amazon, prime, video, hik...          1\n",
       "4   AAPL  [column, big, victory, orange, county, entrepr...          1\n",
       "..   ...                                                ...        ...\n",
       "90  AAPL  [alphabet, fy3q23, earnings, microsoft, fy1q24...          0\n",
       "36  AAPL      [dont, need, new, iphone, need, new, battery]          0\n",
       "73  AAPL  [google, ceo, defends, paying, apple, others, ...         -1\n",
       "94  AAPL  [apple, china, problem, comes, phone, sales, s...         -1\n",
       "37  AAPL  [adding, qualcomm, universal, display, ahead, ...          0\n",
       "\n",
       "[100 rows x 3 columns]"
      ]
     },
     "execution_count": 62,
     "metadata": {},
     "output_type": "execute_result"
    }
   ],
   "source": [
    "df"
   ]
  },
  {
   "cell_type": "code",
   "execution_count": 63,
   "id": "6843f392",
   "metadata": {
    "papermill": {
     "duration": 0.027738,
     "end_time": "2023-11-05T14:27:24.397477",
     "exception": false,
     "start_time": "2023-11-05T14:27:24.369739",
     "status": "completed"
    },
    "tags": []
   },
   "outputs": [],
   "source": [
    "# perform stemming\n",
    "\n",
    "from nltk.stem.porter import PorterStemmer\n",
    "ps=PorterStemmer()"
   ]
  },
  {
   "cell_type": "code",
   "execution_count": 64,
   "id": "3a9739c1",
   "metadata": {
    "papermill": {
     "duration": 0.028717,
     "end_time": "2023-11-05T14:27:24.445101",
     "exception": false,
     "start_time": "2023-11-05T14:27:24.416384",
     "status": "completed"
    },
    "tags": []
   },
   "outputs": [],
   "source": [
    "y=[]\n",
    "def stem_words(text):\n",
    "    for i in text:\n",
    "        y.append(ps.stem(i))\n",
    "    z=y[:]\n",
    "    y.clear()\n",
    "    return z"
   ]
  },
  {
   "cell_type": "code",
   "execution_count": 65,
   "id": "5fd9b230",
   "metadata": {
    "papermill": {
     "duration": 0.03041,
     "end_time": "2023-11-05T14:27:24.494490",
     "exception": false,
     "start_time": "2023-11-05T14:27:24.464080",
     "status": "completed"
    },
    "tags": []
   },
   "outputs": [
    {
     "data": {
      "text/plain": [
       "['i', 'love', 'love', 'it']"
      ]
     },
     "execution_count": 65,
     "metadata": {},
     "output_type": "execute_result"
    }
   ],
   "source": [
    "stem_words(['I','loved','loving','it'])"
   ]
  },
  {
   "cell_type": "code",
   "execution_count": 66,
   "id": "32633fb1",
   "metadata": {
    "papermill": {
     "duration": 48.106698,
     "end_time": "2023-11-05T14:28:12.620671",
     "exception": false,
     "start_time": "2023-11-05T14:27:24.513973",
     "status": "completed"
    },
    "tags": []
   },
   "outputs": [],
   "source": [
    "df['Headline']=df['Headline'].apply(stem_words)"
   ]
  },
  {
   "cell_type": "code",
   "execution_count": 67,
   "id": "50ac366d",
   "metadata": {
    "papermill": {
     "duration": 0.045877,
     "end_time": "2023-11-05T14:28:12.685888",
     "exception": false,
     "start_time": "2023-11-05T14:28:12.640011",
     "status": "completed"
    },
    "tags": []
   },
   "outputs": [
    {
     "data": {
      "text/html": [
       "<div>\n",
       "<style scoped>\n",
       "    .dataframe tbody tr th:only-of-type {\n",
       "        vertical-align: middle;\n",
       "    }\n",
       "\n",
       "    .dataframe tbody tr th {\n",
       "        vertical-align: top;\n",
       "    }\n",
       "\n",
       "    .dataframe thead th {\n",
       "        text-align: right;\n",
       "    }\n",
       "</style>\n",
       "<table border=\"1\" class=\"dataframe\">\n",
       "  <thead>\n",
       "    <tr style=\"text-align: right;\">\n",
       "      <th></th>\n",
       "      <th>Stock</th>\n",
       "      <th>Headline</th>\n",
       "      <th>sentiment</th>\n",
       "    </tr>\n",
       "  </thead>\n",
       "  <tbody>\n",
       "    <tr>\n",
       "      <th>58</th>\n",
       "      <td>AAPL</td>\n",
       "      <td>[appl, headlin, earn, calendar, chip, titan, a...</td>\n",
       "      <td>0</td>\n",
       "    </tr>\n",
       "    <tr>\n",
       "      <th>22</th>\n",
       "      <td>AAPL</td>\n",
       "      <td>[1, magnific, stock, way, join, appl, microsof...</td>\n",
       "      <td>0</td>\n",
       "    </tr>\n",
       "    <tr>\n",
       "      <th>28</th>\n",
       "      <td>AAPL</td>\n",
       "      <td>[15, best, laptop, 2023, student, home, use]</td>\n",
       "      <td>0</td>\n",
       "    </tr>\n",
       "    <tr>\n",
       "      <th>1</th>\n",
       "      <td>AAPL</td>\n",
       "      <td>[netflix, appl, tv, amazon, prime, video, hike...</td>\n",
       "      <td>1</td>\n",
       "    </tr>\n",
       "    <tr>\n",
       "      <th>4</th>\n",
       "      <td>AAPL</td>\n",
       "      <td>[column, big, victori, orang, counti, entrepre...</td>\n",
       "      <td>1</td>\n",
       "    </tr>\n",
       "    <tr>\n",
       "      <th>...</th>\n",
       "      <td>...</td>\n",
       "      <td>...</td>\n",
       "      <td>...</td>\n",
       "    </tr>\n",
       "    <tr>\n",
       "      <th>90</th>\n",
       "      <td>AAPL</td>\n",
       "      <td>[alphabet, fy3q23, earn, microsoft, fy1q24, earn]</td>\n",
       "      <td>0</td>\n",
       "    </tr>\n",
       "    <tr>\n",
       "      <th>36</th>\n",
       "      <td>AAPL</td>\n",
       "      <td>[dont, need, new, iphon, need, new, batteri]</td>\n",
       "      <td>0</td>\n",
       "    </tr>\n",
       "    <tr>\n",
       "      <th>73</th>\n",
       "      <td>AAPL</td>\n",
       "      <td>[googl, ceo, defend, pay, appl, other, make, g...</td>\n",
       "      <td>-1</td>\n",
       "    </tr>\n",
       "    <tr>\n",
       "      <th>94</th>\n",
       "      <td>AAPL</td>\n",
       "      <td>[appl, china, problem, come, phone, sale, say,...</td>\n",
       "      <td>-1</td>\n",
       "    </tr>\n",
       "    <tr>\n",
       "      <th>37</th>\n",
       "      <td>AAPL</td>\n",
       "      <td>[ad, qualcomm, univers, display, ahead, earn]</td>\n",
       "      <td>0</td>\n",
       "    </tr>\n",
       "  </tbody>\n",
       "</table>\n",
       "<p>100 rows × 3 columns</p>\n",
       "</div>"
      ],
      "text/plain": [
       "   Stock                                           Headline  sentiment\n",
       "58  AAPL  [appl, headlin, earn, calendar, chip, titan, a...          0\n",
       "22  AAPL  [1, magnific, stock, way, join, appl, microsof...          0\n",
       "28  AAPL       [15, best, laptop, 2023, student, home, use]          0\n",
       "1   AAPL  [netflix, appl, tv, amazon, prime, video, hike...          1\n",
       "4   AAPL  [column, big, victori, orang, counti, entrepre...          1\n",
       "..   ...                                                ...        ...\n",
       "90  AAPL  [alphabet, fy3q23, earn, microsoft, fy1q24, earn]          0\n",
       "36  AAPL       [dont, need, new, iphon, need, new, batteri]          0\n",
       "73  AAPL  [googl, ceo, defend, pay, appl, other, make, g...         -1\n",
       "94  AAPL  [appl, china, problem, come, phone, sale, say,...         -1\n",
       "37  AAPL      [ad, qualcomm, univers, display, ahead, earn]          0\n",
       "\n",
       "[100 rows x 3 columns]"
      ]
     },
     "execution_count": 67,
     "metadata": {},
     "output_type": "execute_result"
    }
   ],
   "source": [
    "df"
   ]
  },
  {
   "cell_type": "code",
   "execution_count": 68,
   "id": "8e1bbd7d",
   "metadata": {
    "papermill": {
     "duration": 0.028953,
     "end_time": "2023-11-05T14:28:12.734871",
     "exception": false,
     "start_time": "2023-11-05T14:28:12.705918",
     "status": "completed"
    },
    "tags": []
   },
   "outputs": [],
   "source": [
    "# join back\n",
    "\n",
    "def join_back(list_input):\n",
    "    return \" \".join(list_input)"
   ]
  },
  {
   "cell_type": "code",
   "execution_count": 69,
   "id": "f9653690",
   "metadata": {
    "papermill": {
     "duration": 0.130177,
     "end_time": "2023-11-05T14:28:12.884745",
     "exception": false,
     "start_time": "2023-11-05T14:28:12.754568",
     "status": "completed"
    },
    "tags": []
   },
   "outputs": [],
   "source": [
    "df['Headline']=df['Headline'].apply(join_back)"
   ]
  },
  {
   "cell_type": "code",
   "execution_count": 70,
   "id": "e124b5ad",
   "metadata": {
    "papermill": {
     "duration": 0.0321,
     "end_time": "2023-11-05T14:28:12.936247",
     "exception": false,
     "start_time": "2023-11-05T14:28:12.904147",
     "status": "completed"
    },
    "tags": []
   },
   "outputs": [
    {
     "data": {
      "text/plain": [
       "58    appl headlin earn calendar chip titan amd amge...\n",
       "22    1 magnific stock way join appl microsoft amazo...\n",
       "28                 15 best laptop 2023 student home use\n",
       "1      netflix appl tv amazon prime video hike price 40\n",
       "4     column big victori orang counti entrepreneur l...\n",
       "                            ...                        \n",
       "90           alphabet fy3q23 earn microsoft fy1q24 earn\n",
       "36                 dont need new iphon need new batteri\n",
       "73    googl ceo defend pay appl other make googl def...\n",
       "94    appl china problem come phone sale say deepwat...\n",
       "37               ad qualcomm univers display ahead earn\n",
       "Name: Headline, Length: 100, dtype: object"
      ]
     },
     "execution_count": 70,
     "metadata": {},
     "output_type": "execute_result"
    }
   ],
   "source": [
    "# after doing textpreprocessing, df is totally ready\n",
    "\n",
    "df['Headline']"
   ]
  },
  {
   "cell_type": "code",
   "execution_count": 71,
   "id": "82ab2415",
   "metadata": {
    "papermill": {
     "duration": 0.030127,
     "end_time": "2023-11-05T14:28:12.986384",
     "exception": false,
     "start_time": "2023-11-05T14:28:12.956257",
     "status": "completed"
    },
    "tags": []
   },
   "outputs": [],
   "source": [
    "X=df.iloc[:,0:1].values"
   ]
  },
  {
   "cell_type": "code",
   "execution_count": 72,
   "id": "0d138d0d",
   "metadata": {
    "papermill": {
     "duration": 0.031408,
     "end_time": "2023-11-05T14:28:13.037483",
     "exception": false,
     "start_time": "2023-11-05T14:28:13.006075",
     "status": "completed"
    },
    "tags": []
   },
   "outputs": [
    {
     "data": {
      "text/plain": [
       "(100, 1)"
      ]
     },
     "execution_count": 72,
     "metadata": {},
     "output_type": "execute_result"
    }
   ],
   "source": [
    "X.shape"
   ]
  },
  {
   "cell_type": "code",
   "execution_count": 73,
   "id": "8c767ce3",
   "metadata": {
    "papermill": {
     "duration": 0.029223,
     "end_time": "2023-11-05T14:28:13.086484",
     "exception": false,
     "start_time": "2023-11-05T14:28:13.057261",
     "status": "completed"
    },
    "tags": []
   },
   "outputs": [],
   "source": [
    "from sklearn.feature_extraction.text import CountVectorizer\n",
    "cv=CountVectorizer(max_features=1000) \n",
    "# max_feature can increase accuracy as it takes limited columns"
   ]
  },
  {
   "cell_type": "code",
   "execution_count": 74,
   "id": "ec949d3f",
   "metadata": {
    "papermill": {
     "duration": 1.727757,
     "end_time": "2023-11-05T14:28:14.835386",
     "exception": false,
     "start_time": "2023-11-05T14:28:13.107629",
     "status": "completed"
    },
    "tags": []
   },
   "outputs": [],
   "source": [
    "X=cv.fit_transform(df['Headline']).toarray()\n",
    "# vectorization is to convert textual data into numerical so that the algorithm can\n",
    "# draw some conclusions"
   ]
  },
  {
   "cell_type": "code",
   "execution_count": 75,
   "id": "046f52f9",
   "metadata": {
    "papermill": {
     "duration": 0.030806,
     "end_time": "2023-11-05T14:28:14.886043",
     "exception": false,
     "start_time": "2023-11-05T14:28:14.855237",
     "status": "completed"
    },
    "tags": []
   },
   "outputs": [
    {
     "data": {
      "text/plain": [
       "(100, 396)"
      ]
     },
     "execution_count": 75,
     "metadata": {},
     "output_type": "execute_result"
    }
   ],
   "source": [
    "X.shape"
   ]
  },
  {
   "cell_type": "code",
   "execution_count": 76,
   "id": "3194cd48",
   "metadata": {
    "papermill": {
     "duration": 0.029612,
     "end_time": "2023-11-05T14:28:14.935764",
     "exception": false,
     "start_time": "2023-11-05T14:28:14.906152",
     "status": "completed"
    },
    "tags": []
   },
   "outputs": [
    {
     "data": {
      "text/plain": [
       "0.027777777777777776"
      ]
     },
     "execution_count": 76,
     "metadata": {},
     "output_type": "execute_result"
    }
   ],
   "source": [
    "X[0].mean()"
   ]
  },
  {
   "cell_type": "code",
   "execution_count": 77,
   "id": "bfc9a54e",
   "metadata": {
    "papermill": {
     "duration": 0.029084,
     "end_time": "2023-11-05T14:28:14.985708",
     "exception": false,
     "start_time": "2023-11-05T14:28:14.956624",
     "status": "completed"
    },
    "tags": []
   },
   "outputs": [],
   "source": [
    "# extracting y, which is label\n",
    "\n",
    "y=df.iloc[:,-1].values"
   ]
  },
  {
   "cell_type": "code",
   "execution_count": 78,
   "id": "f35576eb",
   "metadata": {
    "papermill": {
     "duration": 0.031834,
     "end_time": "2023-11-05T14:28:15.037479",
     "exception": false,
     "start_time": "2023-11-05T14:28:15.005645",
     "status": "completed"
    },
    "tags": []
   },
   "outputs": [
    {
     "data": {
      "text/plain": [
       "array([ 0,  0,  0,  1,  1,  0,  0,  0, -1,  0, -1,  0,  0,  0, -1, -1,  0,\n",
       "        0, -1, -1,  0,  0,  1,  1,  0,  0,  1,  0, -1,  0,  0,  0,  0,  0,\n",
       "        0,  0,  1,  0, -1,  1,  0,  0,  0, -1,  1,  0,  0,  0, -1,  0, -1,\n",
       "        0,  0,  0,  0, -1,  0,  0,  0,  0,  0,  1,  0,  0,  0,  0, -1,  0,\n",
       "        0,  0,  0,  0, -1, -1,  0,  0,  0,  0, -1,  0,  0, -1,  0,  0,  0,\n",
       "        0,  0,  0,  0,  0,  0, -1,  1,  0,  0,  0,  0, -1, -1,  0],\n",
       "      dtype=int64)"
      ]
     },
     "execution_count": 78,
     "metadata": {},
     "output_type": "execute_result"
    }
   ],
   "source": [
    "y\n",
    "# 1 means positive review while 0 means negative review"
   ]
  },
  {
   "cell_type": "code",
   "execution_count": 79,
   "id": "5d74bc6a",
   "metadata": {
    "papermill": {
     "duration": 0.030909,
     "end_time": "2023-11-05T14:28:15.088623",
     "exception": false,
     "start_time": "2023-11-05T14:28:15.057714",
     "status": "completed"
    },
    "tags": []
   },
   "outputs": [
    {
     "data": {
      "text/plain": [
       "(100,)"
      ]
     },
     "execution_count": 79,
     "metadata": {},
     "output_type": "execute_result"
    }
   ],
   "source": [
    "y.shape"
   ]
  },
  {
   "cell_type": "code",
   "execution_count": 80,
   "id": "9b0b86c6",
   "metadata": {
    "papermill": {
     "duration": 0.07246,
     "end_time": "2023-11-05T14:28:15.181413",
     "exception": false,
     "start_time": "2023-11-05T14:28:15.108953",
     "status": "completed"
    },
    "tags": []
   },
   "outputs": [],
   "source": [
    "# train test the data\n",
    "\n",
    "from sklearn.model_selection import train_test_split\n",
    "\n",
    "X_train, X_test, y_train, y_test = train_test_split(X, y, test_size=0.2)"
   ]
  },
  {
   "cell_type": "code",
   "execution_count": 81,
   "id": "af8b6280",
   "metadata": {
    "papermill": {
     "duration": 0.031787,
     "end_time": "2023-11-05T14:28:15.234404",
     "exception": false,
     "start_time": "2023-11-05T14:28:15.202617",
     "status": "completed"
    },
    "tags": []
   },
   "outputs": [
    {
     "data": {
      "text/plain": [
       "(80, 396)"
      ]
     },
     "execution_count": 81,
     "metadata": {},
     "output_type": "execute_result"
    }
   ],
   "source": [
    "X_train.shape"
   ]
  },
  {
   "cell_type": "code",
   "execution_count": 82,
   "id": "61fd2cd4",
   "metadata": {
    "papermill": {
     "duration": 0.03148,
     "end_time": "2023-11-05T14:28:15.286319",
     "exception": false,
     "start_time": "2023-11-05T14:28:15.254839",
     "status": "completed"
    },
    "tags": []
   },
   "outputs": [
    {
     "data": {
      "text/plain": [
       "(20, 396)"
      ]
     },
     "execution_count": 82,
     "metadata": {},
     "output_type": "execute_result"
    }
   ],
   "source": [
    "X_test.shape"
   ]
  },
  {
   "cell_type": "code",
   "execution_count": 83,
   "id": "3da8d678",
   "metadata": {
    "papermill": {
     "duration": 0.030551,
     "end_time": "2023-11-05T14:28:15.337428",
     "exception": false,
     "start_time": "2023-11-05T14:28:15.306877",
     "status": "completed"
    },
    "tags": []
   },
   "outputs": [
    {
     "data": {
      "text/plain": [
       "(80,)"
      ]
     },
     "execution_count": 83,
     "metadata": {},
     "output_type": "execute_result"
    }
   ],
   "source": [
    "y_train.shape"
   ]
  },
  {
   "cell_type": "code",
   "execution_count": 84,
   "id": "af05ba08",
   "metadata": {
    "papermill": {
     "duration": 0.031413,
     "end_time": "2023-11-05T14:28:15.389457",
     "exception": false,
     "start_time": "2023-11-05T14:28:15.358044",
     "status": "completed"
    },
    "tags": []
   },
   "outputs": [
    {
     "data": {
      "text/plain": [
       "(20,)"
      ]
     },
     "execution_count": 84,
     "metadata": {},
     "output_type": "execute_result"
    }
   ],
   "source": [
    "y_test.shape"
   ]
  },
  {
   "cell_type": "code",
   "execution_count": 85,
   "id": "86aad972",
   "metadata": {
    "papermill": {
     "duration": 0.040471,
     "end_time": "2023-11-05T14:28:15.450916",
     "exception": false,
     "start_time": "2023-11-05T14:28:15.410445",
     "status": "completed"
    },
    "tags": []
   },
   "outputs": [],
   "source": [
    "from sklearn.naive_bayes import GaussianNB,MultinomialNB,BernoulliNB"
   ]
  },
  {
   "cell_type": "code",
   "execution_count": 86,
   "id": "f87ef60e",
   "metadata": {
    "papermill": {
     "duration": 0.030446,
     "end_time": "2023-11-05T14:28:15.502388",
     "exception": false,
     "start_time": "2023-11-05T14:28:15.471942",
     "status": "completed"
    },
    "tags": []
   },
   "outputs": [],
   "source": [
    "clf1=GaussianNB()\n",
    "clf2=MultinomialNB()\n",
    "clf3=BernoulliNB()"
   ]
  },
  {
   "cell_type": "code",
   "execution_count": 87,
   "id": "f3f27d99",
   "metadata": {
    "papermill": {
     "duration": 0.383755,
     "end_time": "2023-11-05T14:28:15.908610",
     "exception": false,
     "start_time": "2023-11-05T14:28:15.524855",
     "status": "completed"
    },
    "tags": []
   },
   "outputs": [
    {
     "data": {
      "text/html": [
       "<style>#sk-container-id-1 {color: black;}#sk-container-id-1 pre{padding: 0;}#sk-container-id-1 div.sk-toggleable {background-color: white;}#sk-container-id-1 label.sk-toggleable__label {cursor: pointer;display: block;width: 100%;margin-bottom: 0;padding: 0.3em;box-sizing: border-box;text-align: center;}#sk-container-id-1 label.sk-toggleable__label-arrow:before {content: \"▸\";float: left;margin-right: 0.25em;color: #696969;}#sk-container-id-1 label.sk-toggleable__label-arrow:hover:before {color: black;}#sk-container-id-1 div.sk-estimator:hover label.sk-toggleable__label-arrow:before {color: black;}#sk-container-id-1 div.sk-toggleable__content {max-height: 0;max-width: 0;overflow: hidden;text-align: left;background-color: #f0f8ff;}#sk-container-id-1 div.sk-toggleable__content pre {margin: 0.2em;color: black;border-radius: 0.25em;background-color: #f0f8ff;}#sk-container-id-1 input.sk-toggleable__control:checked~div.sk-toggleable__content {max-height: 200px;max-width: 100%;overflow: auto;}#sk-container-id-1 input.sk-toggleable__control:checked~label.sk-toggleable__label-arrow:before {content: \"▾\";}#sk-container-id-1 div.sk-estimator input.sk-toggleable__control:checked~label.sk-toggleable__label {background-color: #d4ebff;}#sk-container-id-1 div.sk-label input.sk-toggleable__control:checked~label.sk-toggleable__label {background-color: #d4ebff;}#sk-container-id-1 input.sk-hidden--visually {border: 0;clip: rect(1px 1px 1px 1px);clip: rect(1px, 1px, 1px, 1px);height: 1px;margin: -1px;overflow: hidden;padding: 0;position: absolute;width: 1px;}#sk-container-id-1 div.sk-estimator {font-family: monospace;background-color: #f0f8ff;border: 1px dotted black;border-radius: 0.25em;box-sizing: border-box;margin-bottom: 0.5em;}#sk-container-id-1 div.sk-estimator:hover {background-color: #d4ebff;}#sk-container-id-1 div.sk-parallel-item::after {content: \"\";width: 100%;border-bottom: 1px solid gray;flex-grow: 1;}#sk-container-id-1 div.sk-label:hover label.sk-toggleable__label {background-color: #d4ebff;}#sk-container-id-1 div.sk-serial::before {content: \"\";position: absolute;border-left: 1px solid gray;box-sizing: border-box;top: 0;bottom: 0;left: 50%;z-index: 0;}#sk-container-id-1 div.sk-serial {display: flex;flex-direction: column;align-items: center;background-color: white;padding-right: 0.2em;padding-left: 0.2em;position: relative;}#sk-container-id-1 div.sk-item {position: relative;z-index: 1;}#sk-container-id-1 div.sk-parallel {display: flex;align-items: stretch;justify-content: center;background-color: white;position: relative;}#sk-container-id-1 div.sk-item::before, #sk-container-id-1 div.sk-parallel-item::before {content: \"\";position: absolute;border-left: 1px solid gray;box-sizing: border-box;top: 0;bottom: 0;left: 50%;z-index: -1;}#sk-container-id-1 div.sk-parallel-item {display: flex;flex-direction: column;z-index: 1;position: relative;background-color: white;}#sk-container-id-1 div.sk-parallel-item:first-child::after {align-self: flex-end;width: 50%;}#sk-container-id-1 div.sk-parallel-item:last-child::after {align-self: flex-start;width: 50%;}#sk-container-id-1 div.sk-parallel-item:only-child::after {width: 0;}#sk-container-id-1 div.sk-dashed-wrapped {border: 1px dashed gray;margin: 0 0.4em 0.5em 0.4em;box-sizing: border-box;padding-bottom: 0.4em;background-color: white;}#sk-container-id-1 div.sk-label label {font-family: monospace;font-weight: bold;display: inline-block;line-height: 1.2em;}#sk-container-id-1 div.sk-label-container {text-align: center;}#sk-container-id-1 div.sk-container {/* jupyter's `normalize.less` sets `[hidden] { display: none; }` but bootstrap.min.css set `[hidden] { display: none !important; }` so we also need the `!important` here to be able to override the default hidden behavior on the sphinx rendered scikit-learn.org. See: https://github.com/scikit-learn/scikit-learn/issues/21755 */display: inline-block !important;position: relative;}#sk-container-id-1 div.sk-text-repr-fallback {display: none;}</style><div id=\"sk-container-id-1\" class=\"sk-top-container\"><div class=\"sk-text-repr-fallback\"><pre>BernoulliNB()</pre><b>In a Jupyter environment, please rerun this cell to show the HTML representation or trust the notebook. <br />On GitHub, the HTML representation is unable to render, please try loading this page with nbviewer.org.</b></div><div class=\"sk-container\" hidden><div class=\"sk-item\"><div class=\"sk-estimator sk-toggleable\"><input class=\"sk-toggleable__control sk-hidden--visually\" id=\"sk-estimator-id-1\" type=\"checkbox\" checked><label for=\"sk-estimator-id-1\" class=\"sk-toggleable__label sk-toggleable__label-arrow\">BernoulliNB</label><div class=\"sk-toggleable__content\"><pre>BernoulliNB()</pre></div></div></div></div></div>"
      ],
      "text/plain": [
       "BernoulliNB()"
      ]
     },
     "execution_count": 87,
     "metadata": {},
     "output_type": "execute_result"
    }
   ],
   "source": [
    "clf1.fit(X_train,y_train)\n",
    "clf2.fit(X_train,y_train)\n",
    "clf3.fit(X_train,y_train)"
   ]
  },
  {
   "cell_type": "code",
   "execution_count": 88,
   "id": "8c251a21",
   "metadata": {
    "papermill": {
     "duration": 0.113848,
     "end_time": "2023-11-05T14:28:16.044173",
     "exception": false,
     "start_time": "2023-11-05T14:28:15.930325",
     "status": "completed"
    },
    "tags": []
   },
   "outputs": [],
   "source": [
    "# predicting values for each of them\n",
    "# this will give new array which will be exactly same dimension as of y_test\n",
    "y_pred1=clf1.predict(X_test)   \n",
    "y_pred2=clf2.predict(X_test)\n",
    "y_pred3=clf3.predict(X_test)"
   ]
  },
  {
   "cell_type": "code",
   "execution_count": 89,
   "id": "2c90fb5c",
   "metadata": {
    "papermill": {
     "duration": 0.062075,
     "end_time": "2023-11-05T14:28:16.151187",
     "exception": false,
     "start_time": "2023-11-05T14:28:16.089112",
     "status": "completed"
    },
    "tags": []
   },
   "outputs": [
    {
     "data": {
      "text/plain": [
       "(20,)"
      ]
     },
     "execution_count": 89,
     "metadata": {},
     "output_type": "execute_result"
    }
   ],
   "source": [
    "y_test.shape"
   ]
  },
  {
   "cell_type": "code",
   "execution_count": 90,
   "id": "bfc131f9",
   "metadata": {
    "papermill": {
     "duration": 0.032697,
     "end_time": "2023-11-05T14:28:16.208478",
     "exception": false,
     "start_time": "2023-11-05T14:28:16.175781",
     "status": "completed"
    },
    "tags": []
   },
   "outputs": [
    {
     "data": {
      "text/plain": [
       "(20,)"
      ]
     },
     "execution_count": 90,
     "metadata": {},
     "output_type": "execute_result"
    }
   ],
   "source": [
    "y_pred1.shape"
   ]
  },
  {
   "cell_type": "code",
   "execution_count": 91,
   "id": "7094ea90",
   "metadata": {
    "papermill": {
     "duration": 0.03094,
     "end_time": "2023-11-05T14:28:16.260828",
     "exception": false,
     "start_time": "2023-11-05T14:28:16.229888",
     "status": "completed"
    },
    "tags": []
   },
   "outputs": [],
   "source": [
    "# finally checking the accuracy\n",
    "from sklearn.metrics import accuracy_score"
   ]
  },
  {
   "cell_type": "code",
   "execution_count": 92,
   "id": "2a5d7ed8",
   "metadata": {
    "papermill": {
     "duration": 0.035235,
     "end_time": "2023-11-05T14:28:16.317452",
     "exception": false,
     "start_time": "2023-11-05T14:28:16.282217",
     "status": "completed"
    },
    "tags": []
   },
   "outputs": [
    {
     "name": "stdout",
     "output_type": "stream",
     "text": [
      "Gaussian 0.75\n",
      "Multinomial 0.65\n",
      "Bernaulli 0.85\n"
     ]
    }
   ],
   "source": [
    "print(\"Gaussian\",accuracy_score(y_test,y_pred1))\n",
    "print(\"Multinomial\",accuracy_score(y_test,y_pred2))\n",
    "print(\"Bernaulli\",accuracy_score(y_test,y_pred3))"
   ]
  }
 ],
 "metadata": {
  "kernelspec": {
   "display_name": "Python 3 (ipykernel)",
   "language": "python",
   "name": "python3"
  },
  "language_info": {
   "codemirror_mode": {
    "name": "ipython",
    "version": 3
   },
   "file_extension": ".py",
   "mimetype": "text/x-python",
   "name": "python",
   "nbconvert_exporter": "python",
   "pygments_lexer": "ipython3",
   "version": "3.11.4"
  },
  "papermill": {
   "default_parameters": {},
   "duration": 398.176024,
   "end_time": "2023-11-05T14:28:17.105111",
   "environment_variables": {},
   "exception": null,
   "input_path": "__notebook__.ipynb",
   "output_path": "__notebook__.ipynb",
   "parameters": {},
   "start_time": "2023-11-05T14:21:38.929087",
   "version": "2.4.0"
  }
 },
 "nbformat": 4,
 "nbformat_minor": 5
}
