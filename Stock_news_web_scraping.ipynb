{
 "cells": [
  {
   "cell_type": "markdown",
   "metadata": {
    "id": "ipsDdavWpfoV"
   },
   "source": [
    "# Simple and quick way to scrape news about a stock of choice \n",
    "\n",
    "This short procedure can be utilized to scrape news on the stock you're interested in. This code can also be a part of bigger projects such as sentiment analysis or any statistical analysis of text."
   ]
  },
  {
   "cell_type": "markdown",
   "metadata": {
    "id": "7jJPnzTsr1n7"
   },
   "source": [
    "For information on the stock we will use [finviz](https://finviz.com/)"
   ]
  },
  {
   "cell_type": "code",
   "execution_count": 1,
   "metadata": {
    "id": "UnW84UvDpbNb"
   },
   "outputs": [],
   "source": [
    "# first, import Beautiful Soup and urllib for scraping + other...\n",
    "# libraries to work with the data\n",
    "from bs4 import BeautifulSoup\n",
    "from urllib.request import urlopen, Request\n",
    "import pandas as pd\n",
    "from datetime import date, timedelta"
   ]
  },
  {
   "cell_type": "code",
   "execution_count": 2,
   "metadata": {
    "id": "ZcBKNsRXsmHU"
   },
   "outputs": [],
   "source": [
    "# let's pick a ticker. For example, Amazon - AMZN\n",
    "stock = 'AAPL'\n",
    "news = {}\n",
    "\n",
    "# copy the finviz url \n",
    "# (it may change over time so make sure url ending is correct)\n",
    "url = f'https://finviz.com/quote.ashx?t={stock}&p=d'\n",
    "request = Request(url=url, headers={'user-agent': 'news_scraper'})\n",
    "response = urlopen(request)"
   ]
  },
  {
   "cell_type": "code",
   "execution_count": 3,
   "metadata": {
    "id": "uppHfoHUtfn0"
   },
   "outputs": [],
   "source": [
    "# parse the data\n",
    "html = BeautifulSoup(response, features='html.parser')\n",
    "finviz_news_table = html.find(id='news-table')\n",
    "news[stock] = finviz_news_table\n",
    "\n",
    "# filter and store neede in news_parsed\n",
    "news_parsed = []\n",
    "for stock, news_item in news.items():\n",
    "    for row in news_item.findAll('tr'):\n",
    "        try:\n",
    "            headline = row.a.getText()\n",
    "            source = row.span.getText()\n",
    "            news_parsed.append([stock, headline])\n",
    "        except:\n",
    "            pass\n",
    "\n",
    "# convert to a dataframe for data analysis\n",
    "df = pd.DataFrame(news_parsed, columns=['Stock', 'Headline'])"
   ]
  },
  {
   "cell_type": "code",
   "execution_count": 4,
   "metadata": {
    "colab": {
     "base_uri": "https://localhost:8080/",
     "height": 424
    },
    "id": "dWQsZIsSthBk",
    "outputId": "84057deb-d6f5-47c6-e816-8a9d03ee1432"
   },
   "outputs": [
    {
     "data": {
      "text/html": [
       "<div>\n",
       "<style scoped>\n",
       "    .dataframe tbody tr th:only-of-type {\n",
       "        vertical-align: middle;\n",
       "    }\n",
       "\n",
       "    .dataframe tbody tr th {\n",
       "        vertical-align: top;\n",
       "    }\n",
       "\n",
       "    .dataframe thead th {\n",
       "        text-align: right;\n",
       "    }\n",
       "</style>\n",
       "<table border=\"1\" class=\"dataframe\">\n",
       "  <thead>\n",
       "    <tr style=\"text-align: right;\">\n",
       "      <th></th>\n",
       "      <th>Stock</th>\n",
       "      <th>Headline</th>\n",
       "    </tr>\n",
       "  </thead>\n",
       "  <tbody>\n",
       "    <tr>\n",
       "      <th>0</th>\n",
       "      <td>AAPL</td>\n",
       "      <td>Apple Unveils M3 Processors and New MacBook Pros</td>\n",
       "    </tr>\n",
       "    <tr>\n",
       "      <th>1</th>\n",
       "      <td>AAPL</td>\n",
       "      <td>Apple Unveils New Mac and MacBook, Powered by ...</td>\n",
       "    </tr>\n",
       "    <tr>\n",
       "      <th>2</th>\n",
       "      <td>AAPL</td>\n",
       "      <td>Apple unveils its fastest iMac and MacBook Pro...</td>\n",
       "    </tr>\n",
       "    <tr>\n",
       "      <th>3</th>\n",
       "      <td>AAPL</td>\n",
       "      <td>Apple has a China problem when it comes to pho...</td>\n",
       "    </tr>\n",
       "    <tr>\n",
       "      <th>4</th>\n",
       "      <td>AAPL</td>\n",
       "      <td>Apple Unveils New Laptops, iMac and Trio of Mo...</td>\n",
       "    </tr>\n",
       "    <tr>\n",
       "      <th>...</th>\n",
       "      <td>...</td>\n",
       "      <td>...</td>\n",
       "    </tr>\n",
       "    <tr>\n",
       "      <th>95</th>\n",
       "      <td>AAPL</td>\n",
       "      <td>You Dont Need a New iPhone. You Just Need a Ne...</td>\n",
       "    </tr>\n",
       "    <tr>\n",
       "      <th>96</th>\n",
       "      <td>AAPL</td>\n",
       "      <td>Everything Apple Plans to Launch at Oct. 30 Sc...</td>\n",
       "    </tr>\n",
       "    <tr>\n",
       "      <th>97</th>\n",
       "      <td>AAPL</td>\n",
       "      <td>Some Sunshine, and a Sunset, for the Bulls</td>\n",
       "    </tr>\n",
       "    <tr>\n",
       "      <th>98</th>\n",
       "      <td>AAPL</td>\n",
       "      <td>Tata to Become First India iPhone Maker as Wis...</td>\n",
       "    </tr>\n",
       "    <tr>\n",
       "      <th>99</th>\n",
       "      <td>AAPL</td>\n",
       "      <td>Got $1,000? 5 Buffett Stocks to Buy and Hold F...</td>\n",
       "    </tr>\n",
       "  </tbody>\n",
       "</table>\n",
       "<p>100 rows × 2 columns</p>\n",
       "</div>"
      ],
      "text/plain": [
       "   Stock                                           Headline\n",
       "0   AAPL   Apple Unveils M3 Processors and New MacBook Pros\n",
       "1   AAPL  Apple Unveils New Mac and MacBook, Powered by ...\n",
       "2   AAPL  Apple unveils its fastest iMac and MacBook Pro...\n",
       "3   AAPL  Apple has a China problem when it comes to pho...\n",
       "4   AAPL  Apple Unveils New Laptops, iMac and Trio of Mo...\n",
       "..   ...                                                ...\n",
       "95  AAPL  You Dont Need a New iPhone. You Just Need a Ne...\n",
       "96  AAPL  Everything Apple Plans to Launch at Oct. 30 Sc...\n",
       "97  AAPL         Some Sunshine, and a Sunset, for the Bulls\n",
       "98  AAPL  Tata to Become First India iPhone Maker as Wis...\n",
       "99  AAPL  Got $1,000? 5 Buffett Stocks to Buy and Hold F...\n",
       "\n",
       "[100 rows x 2 columns]"
      ]
     },
     "execution_count": 4,
     "metadata": {},
     "output_type": "execute_result"
    }
   ],
   "source": [
    "df"
   ]
  },
  {
   "cell_type": "code",
   "execution_count": 5,
   "metadata": {
    "id": "rMG9juf2wS1V"
   },
   "outputs": [],
   "source": [
    "# export data to csv if needed\n",
    "df.to_csv(r'newdata.csv', index=False, header=True)"
   ]
  },
  {
   "cell_type": "code",
   "execution_count": null,
   "metadata": {},
   "outputs": [],
   "source": []
  }
 ],
 "metadata": {
  "colab": {
   "provenance": []
  },
  "kernelspec": {
   "display_name": "Python 3 (ipykernel)",
   "language": "python",
   "name": "python3"
  },
  "language_info": {
   "codemirror_mode": {
    "name": "ipython",
    "version": 3
   },
   "file_extension": ".py",
   "mimetype": "text/x-python",
   "name": "python",
   "nbconvert_exporter": "python",
   "pygments_lexer": "ipython3",
   "version": "3.11.4"
  }
 },
 "nbformat": 4,
 "nbformat_minor": 4
}
